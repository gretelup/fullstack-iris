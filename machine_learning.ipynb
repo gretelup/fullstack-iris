{
 "cells": [
  {
   "cell_type": "code",
   "execution_count": 13,
   "metadata": {
    "ExecuteTime": {
     "end_time": "2020-11-18T21:11:08.521640Z",
     "start_time": "2020-11-18T21:11:08.516262Z"
    }
   },
   "outputs": [],
   "source": [
    "from sklearn.datasets import load_iris\n",
    "from sklearn.model_selection import train_test_split\n",
    "from sklearn.preprocessing import StandardScaler\n",
    "from sklearn.model_selection import GridSearchCV\n",
    "from sklearn.ensemble import RandomForestClassifier\n",
    "from sklearn.metrics import classification_report\n",
    "from sklearn.metrics import confusion_matrix\n",
    "import joblib"
   ]
  },
  {
   "cell_type": "code",
   "execution_count": 2,
   "metadata": {
    "ExecuteTime": {
     "end_time": "2020-11-18T21:05:29.375495Z",
     "start_time": "2020-11-18T21:05:29.371773Z"
    }
   },
   "outputs": [],
   "source": [
    "# Load the Iris Dataset\n",
    "iris = load_iris()"
   ]
  },
  {
   "cell_type": "code",
   "execution_count": 3,
   "metadata": {
    "ExecuteTime": {
     "end_time": "2020-11-18T21:05:29.384873Z",
     "start_time": "2020-11-18T21:05:29.381075Z"
    }
   },
   "outputs": [],
   "source": [
    "# Split data into testing/training and target/features\n",
    "X_train, X_test, y_train, y_test = train_test_split(iris.data, iris.target,\n",
    "                                                    random_state=1, \n",
    "                                                    stratify=iris.target)"
   ]
  },
  {
   "cell_type": "code",
   "execution_count": 4,
   "metadata": {
    "ExecuteTime": {
     "end_time": "2020-11-18T21:05:29.390356Z",
     "start_time": "2020-11-18T21:05:29.386748Z"
    }
   },
   "outputs": [],
   "source": [
    "# Scale the features\n",
    "\n",
    "X_scaler = StandardScaler().fit(X_train)\n",
    "X_train_scaled = X_scaler.transform(X_train)\n",
    "X_test_scaled = X_scaler.transform(X_test)"
   ]
  },
  {
   "cell_type": "code",
   "execution_count": 10,
   "metadata": {
    "ExecuteTime": {
     "end_time": "2020-11-18T21:09:45.319402Z",
     "start_time": "2020-11-18T21:09:45.315252Z"
    }
   },
   "outputs": [],
   "source": [
    "# Set model parameters\n",
    "\n",
    "param_grid = {'n_estimators': [200, 500],\n",
    "              'max_features': ['auto', 'sqrt'],\n",
    "              'min_samples_split': [2, 5, 10],\n",
    "              'bootstrap': [True, False]}\n",
    "\n",
    "rf = GridSearchCV(RandomForestClassifier(), param_grid, verbose=3)"
   ]
  },
  {
   "cell_type": "code",
   "execution_count": 11,
   "metadata": {
    "ExecuteTime": {
     "end_time": "2020-11-18T21:10:21.948356Z",
     "start_time": "2020-11-18T21:09:45.915599Z"
    }
   },
   "outputs": [
    {
     "name": "stdout",
     "output_type": "stream",
     "text": [
      "Fitting 5 folds for each of 24 candidates, totalling 120 fits\n",
      "[CV] bootstrap=True, max_features=auto, min_samples_split=2, n_estimators=200 \n",
      "[CV]  bootstrap=True, max_features=auto, min_samples_split=2, n_estimators=200, score=0.957, total=   0.2s\n",
      "[CV] bootstrap=True, max_features=auto, min_samples_split=2, n_estimators=200 \n"
     ]
    },
    {
     "name": "stderr",
     "output_type": "stream",
     "text": [
      "[Parallel(n_jobs=1)]: Using backend SequentialBackend with 1 concurrent workers.\n",
      "[Parallel(n_jobs=1)]: Done   1 out of   1 | elapsed:    0.2s remaining:    0.0s\n"
     ]
    },
    {
     "name": "stdout",
     "output_type": "stream",
     "text": [
      "[CV]  bootstrap=True, max_features=auto, min_samples_split=2, n_estimators=200, score=0.826, total=   0.2s\n",
      "[CV] bootstrap=True, max_features=auto, min_samples_split=2, n_estimators=200 \n",
      "[CV]  bootstrap=True, max_features=auto, min_samples_split=2, n_estimators=200, score=1.000, total=   0.2s\n",
      "[CV] bootstrap=True, max_features=auto, min_samples_split=2, n_estimators=200 \n"
     ]
    },
    {
     "name": "stderr",
     "output_type": "stream",
     "text": [
      "[Parallel(n_jobs=1)]: Done   2 out of   2 | elapsed:    0.4s remaining:    0.0s\n"
     ]
    },
    {
     "name": "stdout",
     "output_type": "stream",
     "text": [
      "[CV]  bootstrap=True, max_features=auto, min_samples_split=2, n_estimators=200, score=0.909, total=   0.2s\n",
      "[CV] bootstrap=True, max_features=auto, min_samples_split=2, n_estimators=200 \n",
      "[CV]  bootstrap=True, max_features=auto, min_samples_split=2, n_estimators=200, score=0.955, total=   0.2s\n",
      "[CV] bootstrap=True, max_features=auto, min_samples_split=2, n_estimators=500 \n",
      "[CV]  bootstrap=True, max_features=auto, min_samples_split=2, n_estimators=500, score=0.957, total=   0.5s\n",
      "[CV] bootstrap=True, max_features=auto, min_samples_split=2, n_estimators=500 \n",
      "[CV]  bootstrap=True, max_features=auto, min_samples_split=2, n_estimators=500, score=0.826, total=   0.5s\n",
      "[CV] bootstrap=True, max_features=auto, min_samples_split=2, n_estimators=500 \n",
      "[CV]  bootstrap=True, max_features=auto, min_samples_split=2, n_estimators=500, score=1.000, total=   0.4s\n",
      "[CV] bootstrap=True, max_features=auto, min_samples_split=2, n_estimators=500 \n",
      "[CV]  bootstrap=True, max_features=auto, min_samples_split=2, n_estimators=500, score=0.909, total=   0.5s\n",
      "[CV] bootstrap=True, max_features=auto, min_samples_split=2, n_estimators=500 \n",
      "[CV]  bootstrap=True, max_features=auto, min_samples_split=2, n_estimators=500, score=0.955, total=   0.4s\n",
      "[CV] bootstrap=True, max_features=auto, min_samples_split=5, n_estimators=200 \n",
      "[CV]  bootstrap=True, max_features=auto, min_samples_split=5, n_estimators=200, score=0.957, total=   0.2s\n",
      "[CV] bootstrap=True, max_features=auto, min_samples_split=5, n_estimators=200 \n",
      "[CV]  bootstrap=True, max_features=auto, min_samples_split=5, n_estimators=200, score=0.826, total=   0.2s\n",
      "[CV] bootstrap=True, max_features=auto, min_samples_split=5, n_estimators=200 \n",
      "[CV]  bootstrap=True, max_features=auto, min_samples_split=5, n_estimators=200, score=1.000, total=   0.2s\n",
      "[CV] bootstrap=True, max_features=auto, min_samples_split=5, n_estimators=200 \n",
      "[CV]  bootstrap=True, max_features=auto, min_samples_split=5, n_estimators=200, score=0.909, total=   0.2s\n",
      "[CV] bootstrap=True, max_features=auto, min_samples_split=5, n_estimators=200 \n",
      "[CV]  bootstrap=True, max_features=auto, min_samples_split=5, n_estimators=200, score=1.000, total=   0.2s\n",
      "[CV] bootstrap=True, max_features=auto, min_samples_split=5, n_estimators=500 \n",
      "[CV]  bootstrap=True, max_features=auto, min_samples_split=5, n_estimators=500, score=0.957, total=   0.5s\n",
      "[CV] bootstrap=True, max_features=auto, min_samples_split=5, n_estimators=500 \n",
      "[CV]  bootstrap=True, max_features=auto, min_samples_split=5, n_estimators=500, score=0.826, total=   0.5s\n",
      "[CV] bootstrap=True, max_features=auto, min_samples_split=5, n_estimators=500 \n",
      "[CV]  bootstrap=True, max_features=auto, min_samples_split=5, n_estimators=500, score=1.000, total=   0.5s\n",
      "[CV] bootstrap=True, max_features=auto, min_samples_split=5, n_estimators=500 \n",
      "[CV]  bootstrap=True, max_features=auto, min_samples_split=5, n_estimators=500, score=0.909, total=   0.5s\n",
      "[CV] bootstrap=True, max_features=auto, min_samples_split=5, n_estimators=500 \n",
      "[CV]  bootstrap=True, max_features=auto, min_samples_split=5, n_estimators=500, score=1.000, total=   0.5s\n",
      "[CV] bootstrap=True, max_features=auto, min_samples_split=10, n_estimators=200 \n",
      "[CV]  bootstrap=True, max_features=auto, min_samples_split=10, n_estimators=200, score=0.957, total=   0.2s\n",
      "[CV] bootstrap=True, max_features=auto, min_samples_split=10, n_estimators=200 \n",
      "[CV]  bootstrap=True, max_features=auto, min_samples_split=10, n_estimators=200, score=0.870, total=   0.2s\n",
      "[CV] bootstrap=True, max_features=auto, min_samples_split=10, n_estimators=200 \n",
      "[CV]  bootstrap=True, max_features=auto, min_samples_split=10, n_estimators=200, score=1.000, total=   0.2s\n",
      "[CV] bootstrap=True, max_features=auto, min_samples_split=10, n_estimators=200 \n",
      "[CV]  bootstrap=True, max_features=auto, min_samples_split=10, n_estimators=200, score=0.909, total=   0.2s\n",
      "[CV] bootstrap=True, max_features=auto, min_samples_split=10, n_estimators=200 \n",
      "[CV]  bootstrap=True, max_features=auto, min_samples_split=10, n_estimators=200, score=1.000, total=   0.2s\n",
      "[CV] bootstrap=True, max_features=auto, min_samples_split=10, n_estimators=500 \n",
      "[CV]  bootstrap=True, max_features=auto, min_samples_split=10, n_estimators=500, score=0.957, total=   0.5s\n",
      "[CV] bootstrap=True, max_features=auto, min_samples_split=10, n_estimators=500 \n",
      "[CV]  bootstrap=True, max_features=auto, min_samples_split=10, n_estimators=500, score=0.826, total=   0.5s\n",
      "[CV] bootstrap=True, max_features=auto, min_samples_split=10, n_estimators=500 \n",
      "[CV]  bootstrap=True, max_features=auto, min_samples_split=10, n_estimators=500, score=1.000, total=   0.5s\n",
      "[CV] bootstrap=True, max_features=auto, min_samples_split=10, n_estimators=500 \n",
      "[CV]  bootstrap=True, max_features=auto, min_samples_split=10, n_estimators=500, score=0.909, total=   0.5s\n",
      "[CV] bootstrap=True, max_features=auto, min_samples_split=10, n_estimators=500 \n",
      "[CV]  bootstrap=True, max_features=auto, min_samples_split=10, n_estimators=500, score=1.000, total=   0.5s\n",
      "[CV] bootstrap=True, max_features=sqrt, min_samples_split=2, n_estimators=200 \n",
      "[CV]  bootstrap=True, max_features=sqrt, min_samples_split=2, n_estimators=200, score=0.957, total=   0.2s\n",
      "[CV] bootstrap=True, max_features=sqrt, min_samples_split=2, n_estimators=200 \n",
      "[CV]  bootstrap=True, max_features=sqrt, min_samples_split=2, n_estimators=200, score=0.826, total=   0.2s\n",
      "[CV] bootstrap=True, max_features=sqrt, min_samples_split=2, n_estimators=200 \n",
      "[CV]  bootstrap=True, max_features=sqrt, min_samples_split=2, n_estimators=200, score=1.000, total=   0.2s\n",
      "[CV] bootstrap=True, max_features=sqrt, min_samples_split=2, n_estimators=200 \n",
      "[CV]  bootstrap=True, max_features=sqrt, min_samples_split=2, n_estimators=200, score=0.909, total=   0.2s\n",
      "[CV] bootstrap=True, max_features=sqrt, min_samples_split=2, n_estimators=200 \n",
      "[CV]  bootstrap=True, max_features=sqrt, min_samples_split=2, n_estimators=200, score=1.000, total=   0.2s\n",
      "[CV] bootstrap=True, max_features=sqrt, min_samples_split=2, n_estimators=500 \n",
      "[CV]  bootstrap=True, max_features=sqrt, min_samples_split=2, n_estimators=500, score=0.957, total=   0.4s\n",
      "[CV] bootstrap=True, max_features=sqrt, min_samples_split=2, n_estimators=500 \n",
      "[CV]  bootstrap=True, max_features=sqrt, min_samples_split=2, n_estimators=500, score=0.826, total=   0.5s\n",
      "[CV] bootstrap=True, max_features=sqrt, min_samples_split=2, n_estimators=500 \n",
      "[CV]  bootstrap=True, max_features=sqrt, min_samples_split=2, n_estimators=500, score=1.000, total=   0.5s\n",
      "[CV] bootstrap=True, max_features=sqrt, min_samples_split=2, n_estimators=500 \n",
      "[CV]  bootstrap=True, max_features=sqrt, min_samples_split=2, n_estimators=500, score=0.909, total=   0.5s\n",
      "[CV] bootstrap=True, max_features=sqrt, min_samples_split=2, n_estimators=500 \n",
      "[CV]  bootstrap=True, max_features=sqrt, min_samples_split=2, n_estimators=500, score=0.955, total=   0.5s\n",
      "[CV] bootstrap=True, max_features=sqrt, min_samples_split=5, n_estimators=200 \n",
      "[CV]  bootstrap=True, max_features=sqrt, min_samples_split=5, n_estimators=200, score=0.957, total=   0.2s\n",
      "[CV] bootstrap=True, max_features=sqrt, min_samples_split=5, n_estimators=200 \n",
      "[CV]  bootstrap=True, max_features=sqrt, min_samples_split=5, n_estimators=200, score=0.826, total=   0.2s\n",
      "[CV] bootstrap=True, max_features=sqrt, min_samples_split=5, n_estimators=200 \n",
      "[CV]  bootstrap=True, max_features=sqrt, min_samples_split=5, n_estimators=200, score=1.000, total=   0.2s\n",
      "[CV] bootstrap=True, max_features=sqrt, min_samples_split=5, n_estimators=200 \n",
      "[CV]  bootstrap=True, max_features=sqrt, min_samples_split=5, n_estimators=200, score=0.909, total=   0.2s\n",
      "[CV] bootstrap=True, max_features=sqrt, min_samples_split=5, n_estimators=200 \n",
      "[CV]  bootstrap=True, max_features=sqrt, min_samples_split=5, n_estimators=200, score=1.000, total=   0.2s\n",
      "[CV] bootstrap=True, max_features=sqrt, min_samples_split=5, n_estimators=500 \n",
      "[CV]  bootstrap=True, max_features=sqrt, min_samples_split=5, n_estimators=500, score=0.957, total=   0.5s\n",
      "[CV] bootstrap=True, max_features=sqrt, min_samples_split=5, n_estimators=500 \n",
      "[CV]  bootstrap=True, max_features=sqrt, min_samples_split=5, n_estimators=500, score=0.826, total=   0.5s\n",
      "[CV] bootstrap=True, max_features=sqrt, min_samples_split=5, n_estimators=500 \n"
     ]
    },
    {
     "name": "stdout",
     "output_type": "stream",
     "text": [
      "[CV]  bootstrap=True, max_features=sqrt, min_samples_split=5, n_estimators=500, score=1.000, total=   0.5s\n",
      "[CV] bootstrap=True, max_features=sqrt, min_samples_split=5, n_estimators=500 \n",
      "[CV]  bootstrap=True, max_features=sqrt, min_samples_split=5, n_estimators=500, score=0.909, total=   0.5s\n",
      "[CV] bootstrap=True, max_features=sqrt, min_samples_split=5, n_estimators=500 \n",
      "[CV]  bootstrap=True, max_features=sqrt, min_samples_split=5, n_estimators=500, score=1.000, total=   0.5s\n",
      "[CV] bootstrap=True, max_features=sqrt, min_samples_split=10, n_estimators=200 \n",
      "[CV]  bootstrap=True, max_features=sqrt, min_samples_split=10, n_estimators=200, score=0.957, total=   0.2s\n",
      "[CV] bootstrap=True, max_features=sqrt, min_samples_split=10, n_estimators=200 \n",
      "[CV]  bootstrap=True, max_features=sqrt, min_samples_split=10, n_estimators=200, score=0.826, total=   0.2s\n",
      "[CV] bootstrap=True, max_features=sqrt, min_samples_split=10, n_estimators=200 \n",
      "[CV]  bootstrap=True, max_features=sqrt, min_samples_split=10, n_estimators=200, score=1.000, total=   0.2s\n",
      "[CV] bootstrap=True, max_features=sqrt, min_samples_split=10, n_estimators=200 \n",
      "[CV]  bootstrap=True, max_features=sqrt, min_samples_split=10, n_estimators=200, score=0.909, total=   0.2s\n",
      "[CV] bootstrap=True, max_features=sqrt, min_samples_split=10, n_estimators=200 \n",
      "[CV]  bootstrap=True, max_features=sqrt, min_samples_split=10, n_estimators=200, score=0.955, total=   0.2s\n",
      "[CV] bootstrap=True, max_features=sqrt, min_samples_split=10, n_estimators=500 \n",
      "[CV]  bootstrap=True, max_features=sqrt, min_samples_split=10, n_estimators=500, score=0.957, total=   0.5s\n",
      "[CV] bootstrap=True, max_features=sqrt, min_samples_split=10, n_estimators=500 \n",
      "[CV]  bootstrap=True, max_features=sqrt, min_samples_split=10, n_estimators=500, score=0.826, total=   0.5s\n",
      "[CV] bootstrap=True, max_features=sqrt, min_samples_split=10, n_estimators=500 \n",
      "[CV]  bootstrap=True, max_features=sqrt, min_samples_split=10, n_estimators=500, score=1.000, total=   0.5s\n",
      "[CV] bootstrap=True, max_features=sqrt, min_samples_split=10, n_estimators=500 \n",
      "[CV]  bootstrap=True, max_features=sqrt, min_samples_split=10, n_estimators=500, score=0.909, total=   0.5s\n",
      "[CV] bootstrap=True, max_features=sqrt, min_samples_split=10, n_estimators=500 \n",
      "[CV]  bootstrap=True, max_features=sqrt, min_samples_split=10, n_estimators=500, score=1.000, total=   0.5s\n",
      "[CV] bootstrap=False, max_features=auto, min_samples_split=2, n_estimators=200 \n",
      "[CV]  bootstrap=False, max_features=auto, min_samples_split=2, n_estimators=200, score=0.957, total=   0.2s\n",
      "[CV] bootstrap=False, max_features=auto, min_samples_split=2, n_estimators=200 \n",
      "[CV]  bootstrap=False, max_features=auto, min_samples_split=2, n_estimators=200, score=0.826, total=   0.1s\n",
      "[CV] bootstrap=False, max_features=auto, min_samples_split=2, n_estimators=200 \n",
      "[CV]  bootstrap=False, max_features=auto, min_samples_split=2, n_estimators=200, score=1.000, total=   0.1s\n",
      "[CV] bootstrap=False, max_features=auto, min_samples_split=2, n_estimators=200 \n",
      "[CV]  bootstrap=False, max_features=auto, min_samples_split=2, n_estimators=200, score=0.909, total=   0.1s\n",
      "[CV] bootstrap=False, max_features=auto, min_samples_split=2, n_estimators=200 \n",
      "[CV]  bootstrap=False, max_features=auto, min_samples_split=2, n_estimators=200, score=0.955, total=   0.1s\n",
      "[CV] bootstrap=False, max_features=auto, min_samples_split=2, n_estimators=500 \n",
      "[CV]  bootstrap=False, max_features=auto, min_samples_split=2, n_estimators=500, score=0.957, total=   0.4s\n",
      "[CV] bootstrap=False, max_features=auto, min_samples_split=2, n_estimators=500 \n",
      "[CV]  bootstrap=False, max_features=auto, min_samples_split=2, n_estimators=500, score=0.826, total=   0.4s\n",
      "[CV] bootstrap=False, max_features=auto, min_samples_split=2, n_estimators=500 \n",
      "[CV]  bootstrap=False, max_features=auto, min_samples_split=2, n_estimators=500, score=1.000, total=   0.4s\n",
      "[CV] bootstrap=False, max_features=auto, min_samples_split=2, n_estimators=500 \n",
      "[CV]  bootstrap=False, max_features=auto, min_samples_split=2, n_estimators=500, score=0.909, total=   0.4s\n",
      "[CV] bootstrap=False, max_features=auto, min_samples_split=2, n_estimators=500 \n",
      "[CV]  bootstrap=False, max_features=auto, min_samples_split=2, n_estimators=500, score=0.955, total=   0.4s\n",
      "[CV] bootstrap=False, max_features=auto, min_samples_split=5, n_estimators=200 \n",
      "[CV]  bootstrap=False, max_features=auto, min_samples_split=5, n_estimators=200, score=0.957, total=   0.2s\n",
      "[CV] bootstrap=False, max_features=auto, min_samples_split=5, n_estimators=200 \n",
      "[CV]  bootstrap=False, max_features=auto, min_samples_split=5, n_estimators=200, score=0.826, total=   0.1s\n",
      "[CV] bootstrap=False, max_features=auto, min_samples_split=5, n_estimators=200 \n",
      "[CV]  bootstrap=False, max_features=auto, min_samples_split=5, n_estimators=200, score=1.000, total=   0.1s\n",
      "[CV] bootstrap=False, max_features=auto, min_samples_split=5, n_estimators=200 \n",
      "[CV]  bootstrap=False, max_features=auto, min_samples_split=5, n_estimators=200, score=0.909, total=   0.1s\n",
      "[CV] bootstrap=False, max_features=auto, min_samples_split=5, n_estimators=200 \n",
      "[CV]  bootstrap=False, max_features=auto, min_samples_split=5, n_estimators=200, score=1.000, total=   0.1s\n",
      "[CV] bootstrap=False, max_features=auto, min_samples_split=5, n_estimators=500 \n",
      "[CV]  bootstrap=False, max_features=auto, min_samples_split=5, n_estimators=500, score=0.957, total=   0.4s\n",
      "[CV] bootstrap=False, max_features=auto, min_samples_split=5, n_estimators=500 \n",
      "[CV]  bootstrap=False, max_features=auto, min_samples_split=5, n_estimators=500, score=0.826, total=   0.4s\n",
      "[CV] bootstrap=False, max_features=auto, min_samples_split=5, n_estimators=500 \n",
      "[CV]  bootstrap=False, max_features=auto, min_samples_split=5, n_estimators=500, score=1.000, total=   0.4s\n",
      "[CV] bootstrap=False, max_features=auto, min_samples_split=5, n_estimators=500 \n",
      "[CV]  bootstrap=False, max_features=auto, min_samples_split=5, n_estimators=500, score=0.909, total=   0.4s\n",
      "[CV] bootstrap=False, max_features=auto, min_samples_split=5, n_estimators=500 \n",
      "[CV]  bootstrap=False, max_features=auto, min_samples_split=5, n_estimators=500, score=1.000, total=   0.4s\n",
      "[CV] bootstrap=False, max_features=auto, min_samples_split=10, n_estimators=200 \n",
      "[CV]  bootstrap=False, max_features=auto, min_samples_split=10, n_estimators=200, score=0.957, total=   0.1s\n",
      "[CV] bootstrap=False, max_features=auto, min_samples_split=10, n_estimators=200 \n",
      "[CV]  bootstrap=False, max_features=auto, min_samples_split=10, n_estimators=200, score=0.826, total=   0.1s\n",
      "[CV] bootstrap=False, max_features=auto, min_samples_split=10, n_estimators=200 \n",
      "[CV]  bootstrap=False, max_features=auto, min_samples_split=10, n_estimators=200, score=1.000, total=   0.1s\n",
      "[CV] bootstrap=False, max_features=auto, min_samples_split=10, n_estimators=200 \n",
      "[CV]  bootstrap=False, max_features=auto, min_samples_split=10, n_estimators=200, score=0.909, total=   0.1s\n",
      "[CV] bootstrap=False, max_features=auto, min_samples_split=10, n_estimators=200 \n",
      "[CV]  bootstrap=False, max_features=auto, min_samples_split=10, n_estimators=200, score=0.955, total=   0.2s\n",
      "[CV] bootstrap=False, max_features=auto, min_samples_split=10, n_estimators=500 \n",
      "[CV]  bootstrap=False, max_features=auto, min_samples_split=10, n_estimators=500, score=0.957, total=   0.4s\n",
      "[CV] bootstrap=False, max_features=auto, min_samples_split=10, n_estimators=500 \n",
      "[CV]  bootstrap=False, max_features=auto, min_samples_split=10, n_estimators=500, score=0.826, total=   0.4s\n",
      "[CV] bootstrap=False, max_features=auto, min_samples_split=10, n_estimators=500 \n",
      "[CV]  bootstrap=False, max_features=auto, min_samples_split=10, n_estimators=500, score=1.000, total=   0.4s\n",
      "[CV] bootstrap=False, max_features=auto, min_samples_split=10, n_estimators=500 \n",
      "[CV]  bootstrap=False, max_features=auto, min_samples_split=10, n_estimators=500, score=0.909, total=   0.4s\n",
      "[CV] bootstrap=False, max_features=auto, min_samples_split=10, n_estimators=500 \n",
      "[CV]  bootstrap=False, max_features=auto, min_samples_split=10, n_estimators=500, score=0.955, total=   0.4s\n",
      "[CV] bootstrap=False, max_features=sqrt, min_samples_split=2, n_estimators=200 \n",
      "[CV]  bootstrap=False, max_features=sqrt, min_samples_split=2, n_estimators=200, score=0.957, total=   0.1s\n",
      "[CV] bootstrap=False, max_features=sqrt, min_samples_split=2, n_estimators=200 \n"
     ]
    },
    {
     "name": "stdout",
     "output_type": "stream",
     "text": [
      "[CV]  bootstrap=False, max_features=sqrt, min_samples_split=2, n_estimators=200, score=0.826, total=   0.2s\n",
      "[CV] bootstrap=False, max_features=sqrt, min_samples_split=2, n_estimators=200 \n",
      "[CV]  bootstrap=False, max_features=sqrt, min_samples_split=2, n_estimators=200, score=1.000, total=   0.1s\n",
      "[CV] bootstrap=False, max_features=sqrt, min_samples_split=2, n_estimators=200 \n",
      "[CV]  bootstrap=False, max_features=sqrt, min_samples_split=2, n_estimators=200, score=0.909, total=   0.2s\n",
      "[CV] bootstrap=False, max_features=sqrt, min_samples_split=2, n_estimators=200 \n",
      "[CV]  bootstrap=False, max_features=sqrt, min_samples_split=2, n_estimators=200, score=0.955, total=   0.1s\n",
      "[CV] bootstrap=False, max_features=sqrt, min_samples_split=2, n_estimators=500 \n",
      "[CV]  bootstrap=False, max_features=sqrt, min_samples_split=2, n_estimators=500, score=0.957, total=   0.4s\n",
      "[CV] bootstrap=False, max_features=sqrt, min_samples_split=2, n_estimators=500 \n",
      "[CV]  bootstrap=False, max_features=sqrt, min_samples_split=2, n_estimators=500, score=0.826, total=   0.4s\n",
      "[CV] bootstrap=False, max_features=sqrt, min_samples_split=2, n_estimators=500 \n",
      "[CV]  bootstrap=False, max_features=sqrt, min_samples_split=2, n_estimators=500, score=1.000, total=   0.4s\n",
      "[CV] bootstrap=False, max_features=sqrt, min_samples_split=2, n_estimators=500 \n",
      "[CV]  bootstrap=False, max_features=sqrt, min_samples_split=2, n_estimators=500, score=0.909, total=   0.4s\n",
      "[CV] bootstrap=False, max_features=sqrt, min_samples_split=2, n_estimators=500 \n",
      "[CV]  bootstrap=False, max_features=sqrt, min_samples_split=2, n_estimators=500, score=0.955, total=   0.4s\n",
      "[CV] bootstrap=False, max_features=sqrt, min_samples_split=5, n_estimators=200 \n",
      "[CV]  bootstrap=False, max_features=sqrt, min_samples_split=5, n_estimators=200, score=0.957, total=   0.1s\n",
      "[CV] bootstrap=False, max_features=sqrt, min_samples_split=5, n_estimators=200 \n",
      "[CV]  bootstrap=False, max_features=sqrt, min_samples_split=5, n_estimators=200, score=0.826, total=   0.2s\n",
      "[CV] bootstrap=False, max_features=sqrt, min_samples_split=5, n_estimators=200 \n",
      "[CV]  bootstrap=False, max_features=sqrt, min_samples_split=5, n_estimators=200, score=1.000, total=   0.1s\n",
      "[CV] bootstrap=False, max_features=sqrt, min_samples_split=5, n_estimators=200 \n",
      "[CV]  bootstrap=False, max_features=sqrt, min_samples_split=5, n_estimators=200, score=0.909, total=   0.1s\n",
      "[CV] bootstrap=False, max_features=sqrt, min_samples_split=5, n_estimators=200 \n",
      "[CV]  bootstrap=False, max_features=sqrt, min_samples_split=5, n_estimators=200, score=1.000, total=   0.1s\n",
      "[CV] bootstrap=False, max_features=sqrt, min_samples_split=5, n_estimators=500 \n",
      "[CV]  bootstrap=False, max_features=sqrt, min_samples_split=5, n_estimators=500, score=0.957, total=   0.4s\n",
      "[CV] bootstrap=False, max_features=sqrt, min_samples_split=5, n_estimators=500 \n",
      "[CV]  bootstrap=False, max_features=sqrt, min_samples_split=5, n_estimators=500, score=0.826, total=   0.4s\n",
      "[CV] bootstrap=False, max_features=sqrt, min_samples_split=5, n_estimators=500 \n",
      "[CV]  bootstrap=False, max_features=sqrt, min_samples_split=5, n_estimators=500, score=1.000, total=   0.4s\n",
      "[CV] bootstrap=False, max_features=sqrt, min_samples_split=5, n_estimators=500 \n",
      "[CV]  bootstrap=False, max_features=sqrt, min_samples_split=5, n_estimators=500, score=0.909, total=   0.4s\n",
      "[CV] bootstrap=False, max_features=sqrt, min_samples_split=5, n_estimators=500 \n",
      "[CV]  bootstrap=False, max_features=sqrt, min_samples_split=5, n_estimators=500, score=1.000, total=   0.4s\n",
      "[CV] bootstrap=False, max_features=sqrt, min_samples_split=10, n_estimators=200 \n",
      "[CV]  bootstrap=False, max_features=sqrt, min_samples_split=10, n_estimators=200, score=0.957, total=   0.1s\n",
      "[CV] bootstrap=False, max_features=sqrt, min_samples_split=10, n_estimators=200 \n",
      "[CV]  bootstrap=False, max_features=sqrt, min_samples_split=10, n_estimators=200, score=0.826, total=   0.1s\n",
      "[CV] bootstrap=False, max_features=sqrt, min_samples_split=10, n_estimators=200 \n",
      "[CV]  bootstrap=False, max_features=sqrt, min_samples_split=10, n_estimators=200, score=1.000, total=   0.1s\n",
      "[CV] bootstrap=False, max_features=sqrt, min_samples_split=10, n_estimators=200 \n",
      "[CV]  bootstrap=False, max_features=sqrt, min_samples_split=10, n_estimators=200, score=0.909, total=   0.2s\n",
      "[CV] bootstrap=False, max_features=sqrt, min_samples_split=10, n_estimators=200 \n",
      "[CV]  bootstrap=False, max_features=sqrt, min_samples_split=10, n_estimators=200, score=0.955, total=   0.1s\n",
      "[CV] bootstrap=False, max_features=sqrt, min_samples_split=10, n_estimators=500 \n",
      "[CV]  bootstrap=False, max_features=sqrt, min_samples_split=10, n_estimators=500, score=0.957, total=   0.3s\n",
      "[CV] bootstrap=False, max_features=sqrt, min_samples_split=10, n_estimators=500 \n",
      "[CV]  bootstrap=False, max_features=sqrt, min_samples_split=10, n_estimators=500, score=0.826, total=   0.4s\n",
      "[CV] bootstrap=False, max_features=sqrt, min_samples_split=10, n_estimators=500 \n",
      "[CV]  bootstrap=False, max_features=sqrt, min_samples_split=10, n_estimators=500, score=1.000, total=   0.4s\n",
      "[CV] bootstrap=False, max_features=sqrt, min_samples_split=10, n_estimators=500 \n",
      "[CV]  bootstrap=False, max_features=sqrt, min_samples_split=10, n_estimators=500, score=0.909, total=   0.4s\n",
      "[CV] bootstrap=False, max_features=sqrt, min_samples_split=10, n_estimators=500 \n",
      "[CV]  bootstrap=False, max_features=sqrt, min_samples_split=10, n_estimators=500, score=0.955, total=   0.4s\n"
     ]
    },
    {
     "name": "stderr",
     "output_type": "stream",
     "text": [
      "[Parallel(n_jobs=1)]: Done 120 out of 120 | elapsed:   35.8s finished\n"
     ]
    },
    {
     "data": {
      "text/plain": [
       "GridSearchCV(estimator=RandomForestClassifier(),\n",
       "             param_grid={'bootstrap': [True, False],\n",
       "                         'max_features': ['auto', 'sqrt'],\n",
       "                         'min_samples_split': [2, 5, 10],\n",
       "                         'n_estimators': [200, 500]},\n",
       "             verbose=3)"
      ]
     },
     "execution_count": 11,
     "metadata": {},
     "output_type": "execute_result"
    }
   ],
   "source": [
    "# Fit\n",
    "rf.fit(X_train_scaled, y_train)"
   ]
  },
  {
   "cell_type": "code",
   "execution_count": 15,
   "metadata": {
    "ExecuteTime": {
     "end_time": "2020-11-18T21:11:18.813098Z",
     "start_time": "2020-11-18T21:11:18.783316Z"
    }
   },
   "outputs": [
    {
     "name": "stdout",
     "output_type": "stream",
     "text": [
      "[[12  0  0]\n",
      " [ 0 13  0]\n",
      " [ 0  1 12]]\n",
      "              precision    recall  f1-score   support\n",
      "\n",
      "           0       1.00      1.00      1.00        12\n",
      "           1       0.93      1.00      0.96        13\n",
      "           2       1.00      0.92      0.96        13\n",
      "\n",
      "    accuracy                           0.97        38\n",
      "   macro avg       0.98      0.97      0.97        38\n",
      "weighted avg       0.98      0.97      0.97        38\n",
      "\n"
     ]
    }
   ],
   "source": [
    "# Print classification repot\n",
    "rf_pred = rf.predict(X_test_scaled)\n",
    "print(confusion_matrix(y_test, rf_pred))\n",
    "print(classification_report(y_test, rf_pred))"
   ]
  },
  {
   "cell_type": "code",
   "execution_count": 16,
   "metadata": {
    "ExecuteTime": {
     "end_time": "2020-11-18T21:12:40.287650Z",
     "start_time": "2020-11-18T21:12:40.201062Z"
    }
   },
   "outputs": [
    {
     "data": {
      "text/plain": [
       "['iris_rf.sav']"
      ]
     },
     "execution_count": 16,
     "metadata": {},
     "output_type": "execute_result"
    }
   ],
   "source": [
    "# Save model\n",
    "joblib.dump(rf, 'iris_rf.sav')"
   ]
  },
  {
   "cell_type": "code",
   "execution_count": null,
   "metadata": {},
   "outputs": [],
   "source": []
  }
 ],
 "metadata": {
  "kernelspec": {
   "display_name": "Python 3",
   "language": "python",
   "name": "python3"
  },
  "language_info": {
   "codemirror_mode": {
    "name": "ipython",
    "version": 3
   },
   "file_extension": ".py",
   "mimetype": "text/x-python",
   "name": "python",
   "nbconvert_exporter": "python",
   "pygments_lexer": "ipython3",
   "version": "3.7.7"
  },
  "toc": {
   "base_numbering": 1,
   "nav_menu": {},
   "number_sections": true,
   "sideBar": true,
   "skip_h1_title": false,
   "title_cell": "Table of Contents",
   "title_sidebar": "Contents",
   "toc_cell": false,
   "toc_position": {},
   "toc_section_display": true,
   "toc_window_display": false
  },
  "varInspector": {
   "cols": {
    "lenName": 16,
    "lenType": 16,
    "lenVar": 40
   },
   "kernels_config": {
    "python": {
     "delete_cmd_postfix": "",
     "delete_cmd_prefix": "del ",
     "library": "var_list.py",
     "varRefreshCmd": "print(var_dic_list())"
    },
    "r": {
     "delete_cmd_postfix": ") ",
     "delete_cmd_prefix": "rm(",
     "library": "var_list.r",
     "varRefreshCmd": "cat(var_dic_list()) "
    }
   },
   "types_to_exclude": [
    "module",
    "function",
    "builtin_function_or_method",
    "instance",
    "_Feature"
   ],
   "window_display": false
  }
 },
 "nbformat": 4,
 "nbformat_minor": 4
}
