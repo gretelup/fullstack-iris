{
 "cells": [
  {
   "cell_type": "code",
   "execution_count": 1,
   "metadata": {
    "ExecuteTime": {
     "end_time": "2020-12-15T17:02:08.005475Z",
     "start_time": "2020-12-15T17:02:07.852788Z"
    }
   },
   "outputs": [],
   "source": [
    "import sqlalchemy\n",
    "from sqlalchemy.ext.automap import automap_base\n",
    "from sqlalchemy.orm import Session\n",
    "from sqlalchemy import create_engine"
   ]
  },
  {
   "cell_type": "code",
   "execution_count": 2,
   "metadata": {
    "ExecuteTime": {
     "end_time": "2020-12-15T17:02:08.026135Z",
     "start_time": "2020-12-15T17:02:08.008234Z"
    }
   },
   "outputs": [],
   "source": [
    "# Database Setup using SQLAlchmy ORM\n",
    "engine = create_engine(\"sqlite:///iris.sqlite\")\n",
    "Base = automap_base()\n",
    "Base.prepare(engine, reflect=True)\n",
    "\n",
    "# Map table\n",
    "Iris = Base.classes.Iris"
   ]
  },
  {
   "cell_type": "code",
   "execution_count": 5,
   "metadata": {
    "ExecuteTime": {
     "end_time": "2020-12-15T17:02:35.945600Z",
     "start_time": "2020-12-15T17:02:35.937218Z"
    }
   },
   "outputs": [],
   "source": [
    "# Develop Sepal-length flask route\n",
    "# Want data returned as a dictionary of lists:\n",
    "# Species as keys; list of sepal-lengths as values\n",
    "\n",
    "# Query for all sepal-lengths\n",
    "session = Session(engine)\n",
    "results = session.query(Iris.Species, Iris.SepalLengthCm).all()\n",
    "\n",
    "# Parse results\n",
    "results_dict = {\"Iris-virginica\": [], \n",
    "                \"Iris-versicolor\": [], \n",
    "                \"Iris-setosa\": []}\n",
    "\n",
    "for species, length in results:\n",
    "    results_dict[species].append(float(length))"
   ]
  },
  {
   "cell_type": "code",
   "execution_count": 7,
   "metadata": {
    "ExecuteTime": {
     "end_time": "2020-12-15T17:02:48.753025Z",
     "start_time": "2020-12-15T17:02:48.749652Z"
    }
   },
   "outputs": [],
   "source": [
    "# Create dynamic route for given selection\n",
    "\n",
    "species = \"Iris-setosa\""
   ]
  },
  {
   "cell_type": "code",
   "execution_count": 8,
   "metadata": {
    "ExecuteTime": {
     "end_time": "2020-12-15T17:02:49.212430Z",
     "start_time": "2020-12-15T17:02:49.205375Z"
    }
   },
   "outputs": [],
   "source": [
    "# Data to be returned as a list of sepal-lengths\n",
    "results = session.query(Iris.SepalLengthCm).\\\n",
    "    filter(Iris.Species == species).all()\n",
    "results_list = [float(num) for num in np.ravel(results)]"
   ]
  }
 ],
 "metadata": {
  "kernelspec": {
   "display_name": "Python 3",
   "language": "python",
   "name": "python3"
  },
  "language_info": {
   "codemirror_mode": {
    "name": "ipython",
    "version": 3
   },
   "file_extension": ".py",
   "mimetype": "text/x-python",
   "name": "python",
   "nbconvert_exporter": "python",
   "pygments_lexer": "ipython3",
   "version": "3.8.5"
  },
  "toc": {
   "base_numbering": 1,
   "nav_menu": {},
   "number_sections": true,
   "sideBar": true,
   "skip_h1_title": false,
   "title_cell": "Table of Contents",
   "title_sidebar": "Contents",
   "toc_cell": false,
   "toc_position": {},
   "toc_section_display": true,
   "toc_window_display": false
  },
  "varInspector": {
   "cols": {
    "lenName": 16,
    "lenType": 16,
    "lenVar": 40
   },
   "kernels_config": {
    "python": {
     "delete_cmd_postfix": "",
     "delete_cmd_prefix": "del ",
     "library": "var_list.py",
     "varRefreshCmd": "print(var_dic_list())"
    },
    "r": {
     "delete_cmd_postfix": ") ",
     "delete_cmd_prefix": "rm(",
     "library": "var_list.r",
     "varRefreshCmd": "cat(var_dic_list()) "
    }
   },
   "types_to_exclude": [
    "module",
    "function",
    "builtin_function_or_method",
    "instance",
    "_Feature"
   ],
   "window_display": false
  }
 },
 "nbformat": 4,
 "nbformat_minor": 4
}
