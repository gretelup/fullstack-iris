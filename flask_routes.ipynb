{
 "cells": [
  {
   "cell_type": "code",
   "execution_count": 1,
   "metadata": {
    "ExecuteTime": {
     "end_time": "2020-11-18T19:49:05.039363Z",
     "start_time": "2020-11-18T19:49:04.935970Z"
    }
   },
   "outputs": [],
   "source": [
    "import sqlalchemy\n",
    "from sqlalchemy.ext.automap import automap_base\n",
    "from sqlalchemy.orm import Session\n",
    "from sqlalchemy import create_engine"
   ]
  },
  {
   "cell_type": "code",
   "execution_count": 2,
   "metadata": {
    "ExecuteTime": {
     "end_time": "2020-11-18T19:49:05.056749Z",
     "start_time": "2020-11-18T19:49:05.041636Z"
    }
   },
   "outputs": [],
   "source": [
    "# Database Setup using SQLAlchmy ORM\n",
    "engine = create_engine(\"sqlite:///iris.sqlite\")\n",
    "Base = automap_base()\n",
    "Base.prepare(engine, reflect=True)\n",
    "\n",
    "# Map table\n",
    "Iris = Base.classes.Iris"
   ]
  },
  {
   "cell_type": "code",
   "execution_count": 3,
   "metadata": {
    "ExecuteTime": {
     "end_time": "2020-11-18T19:49:05.065347Z",
     "start_time": "2020-11-18T19:49:05.058905Z"
    }
   },
   "outputs": [
    {
     "name": "stdout",
     "output_type": "stream",
     "text": [
      "{'Iris-virginica': [6.3, 5.8, 7.1, 6.3, 6.5, 7.6, 4.9, 7.3, 6.7, 7.2, 6.5, 6.4, 6.8, 5.7, 5.8, 6.4, 6.5, 7.7, 7.7, 6.0, 6.9, 5.6, 7.7, 6.3, 6.7, 7.2, 6.2, 6.1, 6.4, 7.2, 7.4, 7.9, 6.4, 6.3, 6.1, 7.7, 6.3, 6.4, 6.0, 6.9, 6.7, 6.9, 5.8, 6.8, 6.7, 6.7, 6.3, 6.5, 6.2, 5.9], 'Iris-versicolor': [7.0, 6.4, 6.9, 5.5, 6.5, 5.7, 6.3, 4.9, 6.6, 5.2, 5.0, 5.9, 6.0, 6.1, 5.6, 6.7, 5.6, 5.8, 6.2, 5.6, 5.9, 6.1, 6.3, 6.1, 6.4, 6.6, 6.8, 6.7, 6.0, 5.7, 5.5, 5.5, 5.8, 6.0, 5.4, 6.0, 6.7, 6.3, 5.6, 5.5, 5.5, 6.1, 5.8, 5.0, 5.6, 5.7, 5.7, 6.2, 5.1, 5.7], 'Iris-setosa': [5.1, 4.9, 4.7, 4.6, 5.0, 5.4, 4.6, 5.0, 4.4, 4.9, 5.4, 4.8, 4.8, 4.3, 5.8, 5.7, 5.4, 5.1, 5.7, 5.1, 5.4, 5.1, 4.6, 5.1, 4.8, 5.0, 5.0, 5.2, 5.2, 4.7, 4.8, 5.4, 5.2, 5.5, 4.9, 5.0, 5.5, 4.9, 4.4, 5.1, 5.0, 4.5, 4.4, 5.0, 5.1, 4.8, 5.1, 4.6, 5.3, 5.0]}\n"
     ]
    },
    {
     "name": "stderr",
     "output_type": "stream",
     "text": [
      "/opt/anaconda3/lib/python3.7/site-packages/sqlalchemy/sql/sqltypes.py:668: SAWarning: Dialect sqlite+pysqlite does *not* support Decimal objects natively, and SQLAlchemy must convert from floating point - rounding errors and other issues may occur. Please consider storing Decimal numbers as strings or integers on this platform for lossless storage.\n",
      "  \"storage.\" % (dialect.name, dialect.driver)\n"
     ]
    }
   ],
   "source": [
    "# Develop Sepal-length flask route\n",
    "# Want data returned as a dictionary of lists:\n",
    "# Species as keys; list of sepal-lengths as values\n",
    "\n",
    "# Query for all sepal-lengths\n",
    "session = Session(engine)\n",
    "results = session.query(Iris.Species, Iris.SepalLengthCm).all()\n",
    "\n",
    "# Parse results\n",
    "results_dict = {\"Iris-virginica\": [], \"Iris-versicolor\": [], \"Iris-setosa\": []}\n",
    "for species, length in results:\n",
    "    results_dict[species].append(float(length))\n",
    "    \n",
    "print(results_dict)"
   ]
  },
  {
   "cell_type": "code",
   "execution_count": 13,
   "metadata": {
    "ExecuteTime": {
     "end_time": "2020-11-18T19:51:33.587203Z",
     "start_time": "2020-11-18T19:51:33.583489Z"
    }
   },
   "outputs": [],
   "source": [
    "# Create dynamic route for given selection\n",
    "\n",
    "species = \"Iris-setosa\""
   ]
  },
  {
   "cell_type": "code",
   "execution_count": 16,
   "metadata": {
    "ExecuteTime": {
     "end_time": "2020-11-18T19:51:44.764821Z",
     "start_time": "2020-11-18T19:51:44.756346Z"
    }
   },
   "outputs": [],
   "source": [
    "# Data to be returned as a list of sepal-lengths\n",
    "results = session.query(Iris.SepalLengthCm).\\\n",
    "    filter(Iris.Species == species).all()\n",
    "results_list = [float(num) for num in np.ravel(results)]"
   ]
  },
  {
   "cell_type": "code",
   "execution_count": 17,
   "metadata": {
    "ExecuteTime": {
     "end_time": "2020-11-18T19:51:45.239579Z",
     "start_time": "2020-11-18T19:51:45.233710Z"
    }
   },
   "outputs": [
    {
     "data": {
      "text/plain": [
       "[7.0,\n",
       " 6.4,\n",
       " 6.9,\n",
       " 5.5,\n",
       " 6.5,\n",
       " 5.7,\n",
       " 6.3,\n",
       " 4.9,\n",
       " 6.6,\n",
       " 5.2,\n",
       " 5.0,\n",
       " 5.9,\n",
       " 6.0,\n",
       " 6.1,\n",
       " 5.6,\n",
       " 6.7,\n",
       " 5.6,\n",
       " 5.8,\n",
       " 6.2,\n",
       " 5.6,\n",
       " 5.9,\n",
       " 6.1,\n",
       " 6.3,\n",
       " 6.1,\n",
       " 6.4,\n",
       " 6.6,\n",
       " 6.8,\n",
       " 6.7,\n",
       " 6.0,\n",
       " 5.7,\n",
       " 5.5,\n",
       " 5.5,\n",
       " 5.8,\n",
       " 6.0,\n",
       " 5.4,\n",
       " 6.0,\n",
       " 6.7,\n",
       " 6.3,\n",
       " 5.6,\n",
       " 5.5,\n",
       " 5.5,\n",
       " 6.1,\n",
       " 5.8,\n",
       " 5.0,\n",
       " 5.6,\n",
       " 5.7,\n",
       " 5.7,\n",
       " 6.2,\n",
       " 5.1,\n",
       " 5.7]"
      ]
     },
     "execution_count": 17,
     "metadata": {},
     "output_type": "execute_result"
    }
   ],
   "source": [
    "results_list"
   ]
  },
  {
   "cell_type": "code",
   "execution_count": null,
   "metadata": {},
   "outputs": [],
   "source": []
  }
 ],
 "metadata": {
  "kernelspec": {
   "display_name": "Python 3",
   "language": "python",
   "name": "python3"
  },
  "language_info": {
   "codemirror_mode": {
    "name": "ipython",
    "version": 3
   },
   "file_extension": ".py",
   "mimetype": "text/x-python",
   "name": "python",
   "nbconvert_exporter": "python",
   "pygments_lexer": "ipython3",
   "version": "3.7.7"
  },
  "toc": {
   "base_numbering": 1,
   "nav_menu": {},
   "number_sections": true,
   "sideBar": true,
   "skip_h1_title": false,
   "title_cell": "Table of Contents",
   "title_sidebar": "Contents",
   "toc_cell": false,
   "toc_position": {},
   "toc_section_display": true,
   "toc_window_display": false
  },
  "varInspector": {
   "cols": {
    "lenName": 16,
    "lenType": 16,
    "lenVar": 40
   },
   "kernels_config": {
    "python": {
     "delete_cmd_postfix": "",
     "delete_cmd_prefix": "del ",
     "library": "var_list.py",
     "varRefreshCmd": "print(var_dic_list())"
    },
    "r": {
     "delete_cmd_postfix": ") ",
     "delete_cmd_prefix": "rm(",
     "library": "var_list.r",
     "varRefreshCmd": "cat(var_dic_list()) "
    }
   },
   "types_to_exclude": [
    "module",
    "function",
    "builtin_function_or_method",
    "instance",
    "_Feature"
   ],
   "window_display": false
  }
 },
 "nbformat": 4,
 "nbformat_minor": 4
}
